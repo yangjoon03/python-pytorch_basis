{
 "cells": [
  {
   "cell_type": "markdown",
   "id": "ce1b3f1e-7e25-404f-a4f2-87823296d25f",
   "metadata": {},
   "source": [
    "# 라이브러리"
   ]
  },
  {
   "cell_type": "code",
   "execution_count": 3,
   "id": "24f50234-677d-4be7-9d6a-ce20e2310f47",
   "metadata": {},
   "outputs": [],
   "source": [
    "import os\n",
    "import torch\n",
    "from torchvision import datasets, transforms\n",
    "from sklearn.model_selection import train_test_split\n"
   ]
  },
  {
   "cell_type": "markdown",
   "id": "e385f68b-a67a-4fdd-b2df-e63708727ce8",
   "metadata": {},
   "source": [
    "# 경로"
   ]
  },
  {
   "cell_type": "code",
   "execution_count": 5,
   "id": "b51cae78-643f-4210-874f-f69815e87c1a",
   "metadata": {},
   "outputs": [],
   "source": [
    "data_path = \"C:/Users/양준영/pytorch/train\""
   ]
  },
  {
   "cell_type": "markdown",
   "id": "2adaa6e6-2229-43d5-9db0-d20343e707c3",
   "metadata": {},
   "source": [
    "# 전처리"
   ]
  },
  {
   "cell_type": "markdown",
   "id": "f67d3ea9-39bd-4815-98d7-049b5c8a663c",
   "metadata": {},
   "source": [
    "transform = transforms.Compose([\n",
    "    transforms.Resize((224, 224))\n",
    "    transforms.ToTensor(),\n",
    "    transforms.Normalize(mean=[0.5, 0.5, 0.5], std=[0.5, 0.5, 0.5])\n",
    "])"
   ]
  },
  {
   "cell_type": "markdown",
   "id": "6e9939e4-91b1-44e7-b338-e43ace41bee4",
   "metadata": {},
   "source": [
    "# 데이터 셋 로드"
   ]
  },
  {
   "cell_type": "code",
   "execution_count": null,
   "id": "ea2f1640-54d2-4b1d-9bed-a1d6ed801dd5",
   "metadata": {},
   "outputs": [],
   "source": [
    "dataset = datasets.ImageFolder(root=data_path, transform=transform)\n",
    "\n",
    "# 클래스 확인\n",
    "print(f\"클래스 목록: {dataset.classes}\")\n",
    "print(f\"클래스 인덱스 매핑: {dataset.class_to_idx}\")\n",
    "print(f\"전체 이미지 개수: {len(dataset)}\")"
   ]
  },
  {
   "cell_type": "markdown",
   "id": "cd89e1b2-e5b3-4308-a48b-71530d8245ec",
   "metadata": {},
   "source": [
    "# 데이터 훈련 검증 테스트 분할"
   ]
  },
  {
   "cell_type": "code",
   "execution_count": null,
   "id": "3823ec06-ba2d-4f4c-bcd3-0a4f9762ff36",
   "metadata": {},
   "outputs": [],
   "source": [
    "80% 훈련, 10% 검증, 10% 테스트\n",
    "total_size = len(dataset)\n",
    "train_size = int(0.8 * total_size)\n",
    "val_size = int(0.1 * total_size)\n",
    "test_size = total_size - train_size - val_size  # 나머지를 테스트에 할당\n",
    "\n",
    "# 랜덤 분할\n",
    "train_dataset, val_dataset, test_dataset = random_split(dataset, [train_size, val_size, test_size])\n",
    "\n",
    "print(f\"훈련 데이터 개수: {len(train_dataset)}\")\n",
    "print(f\"검증 데이터 개수: {len(val_dataset)}\")\n",
    "print(f\"테스트 데이터 개수: {len(test_dataset)}\")"
   ]
  },
  {
   "cell_type": "code",
   "execution_count": 13,
   "id": "7a913479-721c-460d-9428-a1a68e857590",
   "metadata": {},
   "outputs": [],
   "source": [
    "# 데이터 로드 배치"
   ]
  },
  {
   "cell_type": "code",
   "execution_count": null,
   "id": "3c799eeb-5bb1-4106-9330-b56cab583c8f",
   "metadata": {},
   "outputs": [],
   "source": [
    "batch_size = 32\n",
    "\n",
    "train_loader = DataLoader(train_dataset, batch_size=batch_size, shuffle=True)\n",
    "val_loader = DataLoader(val_dataset, batch_size=batch_size, shuffle=False)\n",
    "test_loader = DataLoader(test_dataset, batch_size=batch_size, shuffle=False)"
   ]
  }
 ],
 "metadata": {
  "kernelspec": {
   "display_name": "V1",
   "language": "python",
   "name": "v1"
  },
  "language_info": {
   "codemirror_mode": {
    "name": "ipython",
    "version": 3
   },
   "file_extension": ".py",
   "mimetype": "text/x-python",
   "name": "python",
   "nbconvert_exporter": "python",
   "pygments_lexer": "ipython3",
   "version": "3.9.21"
  }
 },
 "nbformat": 4,
 "nbformat_minor": 5
}
